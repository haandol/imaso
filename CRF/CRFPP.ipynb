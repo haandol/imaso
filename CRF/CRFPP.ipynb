{
 "cells": [
  {
   "cell_type": "code",
   "execution_count": 2,
   "metadata": {
    "collapsed": true
   },
   "outputs": [],
   "source": [
    "RAW_DATA_PATH = 'raw.dat'\n",
    "TRAIN_DATA_PATH = 'train.dat'\n",
    "MODEL_PATH = 'model.dat'"
   ]
  },
  {
   "cell_type": "code",
   "execution_count": 3,
   "metadata": {
    "collapsed": false
   },
   "outputs": [],
   "source": [
    "tempate = '''# Unigram\n",
    "U00:%x[-2,0]\n",
    "U01:%x[-1,0]\n",
    "U02:%x[0,0]\n",
    "U03:%x[1,0]\n",
    "U04:%x[2,0]\n",
    "U05:%x[-1,0]/%x[0,0]\n",
    "U06:%x[0,0]/%x[1,0]\n",
    "'''"
   ]
  },
  {
   "cell_type": "code",
   "execution_count": 4,
   "metadata": {
    "collapsed": false
   },
   "outputs": [],
   "source": [
    "with open('template','w') as fp:\n",
    "     fp.write(tempate)"
   ]
  },
  {
   "cell_type": "code",
   "execution_count": 17,
   "metadata": {
    "collapsed": false
   },
   "outputs": [],
   "source": [
    "with open(RAW_DATA_PATH, 'r') as raw_fp:\n",
    "    with open(TRAIN_DATA_PATH, 'w') as train_fp:\n",
    "        for idx, line in enumerate(raw_fp.xreadlines()):\n",
    "            if not line or len(line.strip()) < 2:\n",
    "                continue\n",
    "            else:\n",
    "                line = line.decode('utf-8')\n",
    "\n",
    "            tokens = [token.strip().encode('utf-8') for token in line]\n",
    "            tokens_count = len(tokens)\n",
    "\n",
    "            tags = []\n",
    "            for idx, token in enumerate(tokens):\n",
    "                if not token:\n",
    "                    continue\n",
    "                if idx < tokens_count - 1:\n",
    "                    if not tokens[idx+1]:\n",
    "                        tags.append((token,'B-S'))\n",
    "                        continue\n",
    "                if idx > 0:\n",
    "                    if 'W' in tags[-1][1]:\n",
    "                        tags.append((token,'I-W'))\n",
    "                        continue\n",
    "                if idx == tokens_count - 1:\n",
    "                    if not tokens[idx-1]:\n",
    "                        tags.append((token,'B-S'))\n",
    "                        continue\n",
    "\n",
    "                tags.append((token,'B-W'))\n",
    "\n",
    "            for token, tag in tags:\n",
    "                train_fp.write('%s\\t%s\\n' % (token,tag))\n",
    "            train_fp.write('\\n')"
   ]
  },
  {
   "cell_type": "code",
   "execution_count": 18,
   "metadata": {
    "collapsed": false
   },
   "outputs": [
    {
     "name": "stdout",
     "output_type": "stream",
     "text": [
      "1\tB-W\n",
      "%\tB-S\n",
      "시\tB-W\n",
      "스\tI-W\n",
      "템\tB-S\n"
     ]
    }
   ],
   "source": [
    "with open(TRAIN_DATA_PATH, 'r') as fp:\n",
    "    lines = fp.xreadlines()\n",
    "    iteration = 1\n",
    "    while iteration < 6:\n",
    "        print lines.next(),\n",
    "        iteration += 1"
   ]
  },
  {
   "cell_type": "code",
   "execution_count": 7,
   "metadata": {
    "collapsed": false
   },
   "outputs": [
    {
     "name": "stdout",
     "output_type": "stream",
     "text": [
      "crf_learn -c 1 template train.dat crf.model\n"
     ]
    },
    {
     "data": {
      "text/plain": [
       "0"
      ]
     },
     "execution_count": 7,
     "metadata": {},
     "output_type": "execute_result"
    }
   ],
   "source": [
    "import os\n",
    "\n",
    "cmd = 'crf_learn -c 1 template %s %s'% (TRAIN_DATA_PATH, MODEL_PATH)\n",
    "print cmd\n",
    "\n",
    "os.system(cmd)"
   ]
  },
  {
   "cell_type": "code",
   "execution_count": 19,
   "metadata": {
    "collapsed": true
   },
   "outputs": [],
   "source": [
    "import CRFPP\n",
    "\n",
    "def segment(sentence):\n",
    "    tagger = CRFPP.Tagger('-m  %s -v 3 -n2' % MODEL_PATH)\n",
    "\n",
    "    for token in list(sentence):\n",
    "        tagger.add(token.encode('utf-8'))\n",
    "                \n",
    "    tagger.parse()\n",
    "    \n",
    "    result = []\n",
    "    for pos_idx, token in enumerate(sentence):\n",
    "        word = tagger.x(pos_idx, 0).decode('utf-8')\n",
    "        tag = tagger.y2(pos_idx)\n",
    "        result.append(word)\n",
    "        if 'B-S' == tag:\n",
    "            result.append(' ')\n",
    "        \n",
    "    return ''.join(result)"
   ]
  },
  {
   "cell_type": "code",
   "execution_count": 9,
   "metadata": {
    "collapsed": false
   },
   "outputs": [
    {
     "name": "stdout",
     "output_type": "stream",
     "text": [
      "유럽 스타일 양문 형 냉장고 \n"
     ]
    }
   ],
   "source": [
    "print segment(u'유럽스타일양문형냉장고')"
   ]
  },
  {
   "cell_type": "code",
   "execution_count": null,
   "metadata": {
    "collapsed": true
   },
   "outputs": [],
   "source": []
  }
 ],
 "metadata": {
  "kernelspec": {
   "display_name": "Python 2",
   "language": "python",
   "name": "python2"
  },
  "language_info": {
   "codemirror_mode": {
    "name": "ipython",
    "version": 2
   },
   "file_extension": ".py",
   "mimetype": "text/x-python",
   "name": "python",
   "nbconvert_exporter": "python",
   "pygments_lexer": "ipython2",
   "version": "2.7.6"
  }
 },
 "nbformat": 4,
 "nbformat_minor": 0
}
